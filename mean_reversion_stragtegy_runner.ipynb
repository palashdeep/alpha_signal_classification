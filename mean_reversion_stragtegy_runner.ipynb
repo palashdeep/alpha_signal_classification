{
 "cells": [
  {
   "cell_type": "code",
   "execution_count": null,
   "id": "2e38066d",
   "metadata": {},
   "outputs": [],
   "source": [
    "import matplotlib.pyplot as plt\n",
    "from mean_reversion_stragtegy_complex import *"
   ]
  },
  {
   "cell_type": "code",
   "execution_count": null,
   "id": "8d60d24e",
   "metadata": {},
   "outputs": [],
   "source": [
    "outdir = 'mr_results'\n",
    "os.makedirs(outdir, exist_ok=True)\n",
    "\n",
    "# --- single asset example ---\n",
    "tick = 'SPY'\n",
    "data = fetch_data([tick], period='5y', interval='1d')\n",
    "close = data[tick]['close']\n",
    "\n",
    "print('Running single-asset mean reversion on', tick)\n",
    "res = single_asset_mean_reversion(close, ma_window=20, std_window=20, entry_z=2.0, exit_z=0.0,\n",
    "                                    pct_per_trade=0.1, tc=0.0005, slippage=0.0002)\n",
    "print('Metrics:', res['metrics'])\n",
    "res['trades'].to_csv(os.path.join(outdir, f'{tick}_single_trades.csv'), index=False)\n",
    "res['equity_curve'].to_csv(os.path.join(outdir, f'{tick}_single_equity.csv'))\n",
    "plot_equity(res['equity_curve'], f'{tick} Single Asset MR Equity', fname=os.path.join(outdir, f'{tick}_single_equity.png'))\n",
    "\n",
    "# save price+z\n",
    "ma = close.rolling(20).mean()\n",
    "sigma = close.rolling(20).std()\n",
    "z = (close - ma) / sigma\n",
    "plot_price_with_z(close, z, f'{tick} price + z-score', fname=os.path.join(outdir, f'{tick}_price_z.png'))\n",
    "\n",
    "# --- pairs example ---\n",
    "tick_x = 'XLF'\n",
    "tick_y = 'KBE'\n",
    "print('Fetching pair:', tick_x, tick_y)\n",
    "pairdata = fetch_data([tick_x, tick_y], period='5y', interval='1d')\n",
    "px = pairdata[tick_x]['close']\n",
    "py = pairdata[tick_y]['close']\n",
    "\n",
    "print('Running pairs mean reversion')\n",
    "pres = pairs_mean_reversion(px, py, lookback=60, z_entry=2.0, z_exit=0.5,\n",
    "                            pct_per_trade=0.1, tc=0.0005, slippage=0.0002)\n",
    "print('Pair Metrics:', pres['metrics'])\n",
    "pres['trades'].to_csv(os.path.join(outdir, f'{tick_x}_{tick_y}_pair_trades.csv'), index=False)\n",
    "pres['equity_curve'].to_csv(os.path.join(outdir, f'{tick_x}_{tick_y}_pair_equity.csv'))\n",
    "plot_equity(pres['equity_curve'], f'{tick_x}-{tick_y} Pairs MR Equity', fname=os.path.join(outdir, f'{tick_x}_{tick_y}_pair_equity.png'))\n",
    "\n",
    "print('Done. Results saved to', outdir)\n"
   ]
  }
 ],
 "metadata": {
  "language_info": {
   "name": "python"
  }
 },
 "nbformat": 4,
 "nbformat_minor": 5
}
